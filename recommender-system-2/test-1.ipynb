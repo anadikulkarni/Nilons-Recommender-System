{
 "cells": [
  {
   "cell_type": "markdown",
   "id": "da58415e",
   "metadata": {},
   "source": [
    "# Nilons Recommender System 2: For Distributors"
   ]
  },
  {
   "cell_type": "markdown",
   "id": "02662f9f",
   "metadata": {},
   "source": [
    "## Business Objective\n",
    "\n",
    "To recommend products to distributors:\n",
    "1) That sold in the same month last year (seasonality).\n",
    "2) Based on recent 3-month activity (momentum).\n",
    "3) Highlighting items that haven't yet sold this month (gap alert)."
   ]
  },
  {
   "cell_type": "code",
   "execution_count": 1,
   "id": "b405c55f",
   "metadata": {},
   "outputs": [],
   "source": [
    "import pandas as pd\n",
    "import numpy as np\n",
    "import matplotlib.pyplot as plt\n",
    "import seaborn as sns"
   ]
  },
  {
   "cell_type": "markdown",
   "id": "2533a3a5",
   "metadata": {},
   "source": [
    "## Importing Data\n",
    "\n",
    "The dataset should as a minimum include columns: \n",
    "* Distributor id\n",
    "* Product id\n",
    "* Invoice Date\n",
    "* Sales Value\n",
    "\n",
    "Optional are columns that contain metadata such as:\n",
    "* Product category\n",
    "* Distributor area"
   ]
  },
  {
   "cell_type": "markdown",
   "id": "8af51039",
   "metadata": {},
   "source": [
    "## Data Preprocessing"
   ]
  },
  {
   "cell_type": "markdown",
   "id": "35955307",
   "metadata": {},
   "source": [
    "## Feature Engineering"
   ]
  },
  {
   "cell_type": "markdown",
   "id": "5a02271f",
   "metadata": {},
   "source": [
    "## Create Recommendation Table"
   ]
  }
 ],
 "metadata": {
  "kernelspec": {
   "display_name": "venv",
   "language": "python",
   "name": "python3"
  },
  "language_info": {
   "codemirror_mode": {
    "name": "ipython",
    "version": 3
   },
   "file_extension": ".py",
   "mimetype": "text/x-python",
   "name": "python",
   "nbconvert_exporter": "python",
   "pygments_lexer": "ipython3",
   "version": "3.13.3"
  }
 },
 "nbformat": 4,
 "nbformat_minor": 5
}
