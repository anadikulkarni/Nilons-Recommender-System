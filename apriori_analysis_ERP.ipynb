{
  "cells": [
    {
      "cell_type": "code",
      "execution_count": 1,
      "id": "9bb11ba2",
      "metadata": {
        "id": "9bb11ba2"
      },
      "outputs": [],
      "source": [
        "import pandas as pd"
      ]
    },
    {
      "cell_type": "code",
      "execution_count": 2,
      "id": "e82fd791",
      "metadata": {
        "id": "e82fd791"
      },
      "outputs": [
        {
          "name": "stderr",
          "output_type": "stream",
          "text": [
            "/var/folders/9r/s9z4twjj33v1skc12jtnvrkh0000gn/T/ipykernel_38880/376752098.py:1: DtypeWarning: Columns (2,3,17,21) have mixed types. Specify dtype option on import or set low_memory=False.\n",
            "  df = pd.read_csv('Data/ERP Sales Register.csv')\n"
          ]
        }
      ],
      "source": [
        "df = pd.read_csv('Data/ERP Sales Register.csv')"
      ]
    },
    {
      "cell_type": "code",
      "execution_count": 3,
      "id": "0b4a4a1d",
      "metadata": {
        "id": "0b4a4a1d"
      },
      "outputs": [],
      "source": [
        "# Keep only necessary columns\n",
        "basket_df = df[[\"Invoice/ Sales CN No.\", \"Item Name\"]].dropna()"
      ]
    },
    {
      "cell_type": "code",
      "execution_count": 4,
      "id": "29017b78",
      "metadata": {},
      "outputs": [],
      "source": [
        "# Remove system/non-product rows\n",
        "basket_df = basket_df[~basket_df[\"Item Name\"].str.contains(\"Rounding Difference\", case=False, na=False)]"
      ]
    },
    {
      "cell_type": "code",
      "execution_count": 5,
      "id": "79bcd2c9",
      "metadata": {
        "id": "79bcd2c9"
      },
      "outputs": [],
      "source": [
        "# Filter to top 100 most frequent items\n",
        "top_items = basket_df[\"Item Name\"].value_counts().nlargest(100).index\n",
        "filtered_df = basket_df[basket_df[\"Item Name\"].isin(top_items)]"
      ]
    },
    {
      "cell_type": "code",
      "execution_count": 6,
      "id": "1iShxjjx5kP5",
      "metadata": {
        "id": "1iShxjjx5kP5"
      },
      "outputs": [],
      "source": [
        "filtered_df = filtered_df.drop_duplicates(subset=[\"Invoice/ Sales CN No.\", \"Item Name\"])"
      ]
    },
    {
      "cell_type": "code",
      "execution_count": 7,
      "id": "220bf228",
      "metadata": {
        "id": "220bf228"
      },
      "outputs": [],
      "source": [
        "# Create the basket: one row per invoice, columns as items, values = True/False\n",
        "basket = (filtered_df\n",
        "          .groupby([\"Invoice/ Sales CN No.\", \"Item Name\"])[\"Item Name\"]\n",
        "          .count().unstack().reset_index().fillna(0)\n",
        "          .set_index(\"Invoice/ Sales CN No.\"))"
      ]
    },
    {
      "cell_type": "code",
      "execution_count": 8,
      "id": "6a240961",
      "metadata": {
        "colab": {
          "base_uri": "https://localhost:8080/"
        },
        "id": "6a240961",
        "outputId": "7881b495-836b-4009-d07c-f4769f161027"
      },
      "outputs": [
        {
          "name": "stderr",
          "output_type": "stream",
          "text": [
            "/var/folders/9r/s9z4twjj33v1skc12jtnvrkh0000gn/T/ipykernel_38880/1988355904.py:2: FutureWarning: DataFrame.applymap has been deprecated. Use DataFrame.map instead.\n",
            "  basket = basket.applymap(lambda x: 1 if x > 0 else 0)\n"
          ]
        }
      ],
      "source": [
        "# Convert counts to 1s and 0s\n",
        "basket = basket.applymap(lambda x: 1 if x > 0 else 0)"
      ]
    },
    {
      "cell_type": "code",
      "execution_count": 9,
      "id": "46ba4da1",
      "metadata": {
        "id": "46ba4da1"
      },
      "outputs": [],
      "source": [
        "basket = basket.astype(bool)"
      ]
    },
    {
      "cell_type": "code",
      "execution_count": 10,
      "id": "37c314b5",
      "metadata": {
        "id": "37c314b5"
      },
      "outputs": [],
      "source": [
        "from mlxtend.frequent_patterns import association_rules, fpgrowth"
      ]
    },
    {
      "cell_type": "code",
      "execution_count": 11,
      "id": "7fGay6XH1pPA",
      "metadata": {
        "id": "7fGay6XH1pPA"
      },
      "outputs": [],
      "source": [
        "# Run faster algorithm\n",
        "frequent_items = fpgrowth(basket, min_support=0.02, use_colnames=True)"
      ]
    },
    {
      "cell_type": "code",
      "execution_count": 12,
      "id": "5ZN-iqm27gxz",
      "metadata": {
        "id": "5ZN-iqm27gxz"
      },
      "outputs": [],
      "source": [
        "# Generate rules from frequent itemsets\n",
        "rules = association_rules(frequent_items, metric=\"lift\", min_threshold=1.0)"
      ]
    },
    {
      "cell_type": "code",
      "execution_count": 13,
      "id": "3XDyho8-76bk",
      "metadata": {
        "id": "3XDyho8-76bk"
      },
      "outputs": [],
      "source": [
        "# Sort by lift (strongest associations at the top)\n",
        "rules = rules.sort_values(by=\"lift\", ascending=False)"
      ]
    },
    {
      "cell_type": "code",
      "execution_count": 14,
      "id": "jhWp0r9j77Yx",
      "metadata": {
        "colab": {
          "base_uri": "https://localhost:8080/",
          "height": 1000
        },
        "id": "jhWp0r9j77Yx",
        "outputId": "5d4b9073-8764-4141-d745-5136dfec1523"
      },
      "outputs": [
        {
          "data": {
            "application/vnd.microsoft.datawrangler.viewer.v0+json": {
              "columns": [
                {
                  "name": "index",
                  "rawType": "int64",
                  "type": "integer"
                },
                {
                  "name": "antecedents",
                  "rawType": "object",
                  "type": "unknown"
                },
                {
                  "name": "consequents",
                  "rawType": "object",
                  "type": "unknown"
                },
                {
                  "name": "antecedent support",
                  "rawType": "float64",
                  "type": "float"
                },
                {
                  "name": "consequent support",
                  "rawType": "float64",
                  "type": "float"
                },
                {
                  "name": "support",
                  "rawType": "float64",
                  "type": "float"
                },
                {
                  "name": "confidence",
                  "rawType": "float64",
                  "type": "float"
                },
                {
                  "name": "lift",
                  "rawType": "float64",
                  "type": "float"
                },
                {
                  "name": "representativity",
                  "rawType": "float64",
                  "type": "float"
                },
                {
                  "name": "leverage",
                  "rawType": "float64",
                  "type": "float"
                },
                {
                  "name": "conviction",
                  "rawType": "float64",
                  "type": "float"
                },
                {
                  "name": "zhangs_metric",
                  "rawType": "float64",
                  "type": "float"
                },
                {
                  "name": "jaccard",
                  "rawType": "float64",
                  "type": "float"
                },
                {
                  "name": "certainty",
                  "rawType": "float64",
                  "type": "float"
                },
                {
                  "name": "kulczynski",
                  "rawType": "float64",
                  "type": "float"
                }
              ],
              "conversionMethod": "pd.DataFrame",
              "ref": "1ca11f09-c542-41f6-96b0-706dad18782a",
              "rows": [
                [
                  "902",
                  "frozenset({'200 GM STD MIXED PICKLE M/O BTL (1*60)'})",
                  "frozenset({'200 GM STD MANGO PICKLE M/O BTL (1*60)'})",
                  "0.03512516980399767",
                  "0.02684022750003732",
                  "0.022630581140187195",
                  "0.6442838929026774",
                  "24.00441251482617",
                  "1.0",
                  "0.021687813591670456",
                  "2.7357765169562867",
                  "0.9932283054232992",
                  "0.5753320683111955",
                  "0.6344730668598036",
                  "0.7437214792655767"
                ],
                [
                  "903",
                  "frozenset({'200 GM STD MANGO PICKLE M/O BTL (1*60)'})",
                  "frozenset({'200 GM STD MIXED PICKLE M/O BTL (1*60)'})",
                  "0.02684022750003732",
                  "0.03512516980399767",
                  "0.022630581140187195",
                  "0.8431590656284761",
                  "24.00441251482617",
                  "1.0",
                  "0.021687813591670456",
                  "6.151932427987277",
                  "0.9847725107659089",
                  "0.5753320683111955",
                  "0.8374494499564636",
                  "0.7437214792655767"
                ],
                [
                  "75",
                  "frozenset({'325 GM NILONS CLASSIC MIXED PICKLE PET M/O (1*40)'})",
                  "frozenset({'325 GM NILONS CLASSIC MANGO PICKLE PET M/O (1*40)'})",
                  "0.03843914672558181",
                  "0.03178133723447133",
                  "0.02748212393079461",
                  "0.7149514563106797",
                  "22.495952610049844",
                  "1.0",
                  "0.02626047644570357",
                  "3.3966799136529118",
                  "0.9937463198703079",
                  "0.6430317848410757",
                  "0.7055948675115036",
                  "0.7898383397100603"
                ],
                [
                  "74",
                  "frozenset({'325 GM NILONS CLASSIC MANGO PICKLE PET M/O (1*40)'})",
                  "frozenset({'325 GM NILONS CLASSIC MIXED PICKLE PET M/O (1*40)'})",
                  "0.03178133723447133",
                  "0.03843914672558181",
                  "0.02748212393079461",
                  "0.8647252231094411",
                  "22.495952610049844",
                  "1.0",
                  "0.02626047644570357",
                  "7.108205057712629",
                  "0.9869129732982734",
                  "0.6430317848410757",
                  "0.8593175081640381",
                  "0.7898383397100603"
                ],
                [
                  "847",
                  "frozenset({'500 GM NILONS CLASSIC MIXED PICKLE PET M/O (1*20)', '900 GM NILONS CLASSIC MANGO PICKLE PET M/O (1*15)'})",
                  "frozenset({'500 GM NILONS CLASSIC MANGO PICKLE PET M/O (1*20)', '900 GM NILONS CLASSIC MIXED PICKLE PET M/O (1*15)'})",
                  "0.034975891564286675",
                  "0.03581184970666826",
                  "0.02566092940632044",
                  "0.7336747759282971",
                  "20.486927705152436",
                  "1.0",
                  "0.024408378034263482",
                  "3.620341083553328",
                  "0.9856628223442059",
                  "0.5686404234204432",
                  "0.7237829317953351",
                  "0.7251116689145446"
                ],
                [
                  "842",
                  "frozenset({'500 GM NILONS CLASSIC MANGO PICKLE PET M/O (1*20)', '900 GM NILONS CLASSIC MIXED PICKLE PET M/O (1*15)'})",
                  "frozenset({'500 GM NILONS CLASSIC MIXED PICKLE PET M/O (1*20)', '900 GM NILONS CLASSIC MANGO PICKLE PET M/O (1*15)'})",
                  "0.03581184970666826",
                  "0.034975891564286675",
                  "0.02566092940632044",
                  "0.7165485619007921",
                  "20.486927705152436",
                  "1.0",
                  "0.024408378034263482",
                  "3.404548288437172",
                  "0.9865173991835197",
                  "0.5686404234204432",
                  "0.7062752778698166",
                  "0.7251116689145446"
                ],
                [
                  "362",
                  "frozenset({'RS 10/- NILONS FUSILLI PASTA POU (1*160)'})",
                  "frozenset({'RS 10/- NILONS MACARONI PASTA POU (1*160)'})",
                  "0.03202018241800893",
                  "0.037618116407171324",
                  "0.022615653316216094",
                  "0.7062937062937062",
                  "18.77536075036075",
                  "1.0",
                  "0.021411114366636574",
                  "3.276681175089869",
                  "0.978056245881204",
                  "0.480952380952381",
                  "0.6948131519165659",
                  "0.6537420912420913"
                ],
                [
                  "363",
                  "frozenset({'RS 10/- NILONS MACARONI PASTA POU (1*160)'})",
                  "frozenset({'RS 10/- NILONS FUSILLI PASTA POU (1*160)'})",
                  "0.037618116407171324",
                  "0.03202018241800893",
                  "0.022615653316216094",
                  "0.6011904761904762",
                  "18.77536075036075",
                  "1.0",
                  "0.021411114366636574",
                  "2.4271732739369325",
                  "0.9837453537036527",
                  "0.480952380952381",
                  "0.5879981002023904",
                  "0.6537420912420913"
                ],
                [
                  "844",
                  "frozenset({'500 GM NILONS CLASSIC MANGO PICKLE PET M/O (1*20)', '900 GM NILONS CLASSIC MANGO PICKLE PET M/O (1*15)'})",
                  "frozenset({'900 GM NILONS CLASSIC MIXED PICKLE PET M/O (1*15)', '500 GM NILONS CLASSIC MIXED PICKLE PET M/O (1*20)'})",
                  "0.03251280060905522",
                  "0.045156667512576694",
                  "0.02566092940632044",
                  "0.7892561983471075",
                  "17.478176354074176",
                  "1.0",
                  "0.024192759679314634",
                  "4.530825224744245",
                  "0.9744684928007745",
                  "0.49339839265212393",
                  "0.779289654666287",
                  "0.6787603305785124"
                ],
                [
                  "845",
                  "frozenset({'900 GM NILONS CLASSIC MIXED PICKLE PET M/O (1*15)', '500 GM NILONS CLASSIC MIXED PICKLE PET M/O (1*20)'})",
                  "frozenset({'500 GM NILONS CLASSIC MANGO PICKLE PET M/O (1*20)', '900 GM NILONS CLASSIC MANGO PICKLE PET M/O (1*15)'})",
                  "0.045156667512576694",
                  "0.03251280060905522",
                  "0.02566092940632044",
                  "0.5682644628099174",
                  "17.478176354074176",
                  "1.0",
                  "0.024192759679314634",
                  "2.2409255575479388",
                  "0.9873722326138296",
                  "0.49339839265212393",
                  "0.5537558145866219",
                  "0.6787603305785124"
                ]
              ],
              "shape": {
                "columns": 14,
                "rows": 10
              }
            },
            "text/html": [
              "<div>\n",
              "<style scoped>\n",
              "    .dataframe tbody tr th:only-of-type {\n",
              "        vertical-align: middle;\n",
              "    }\n",
              "\n",
              "    .dataframe tbody tr th {\n",
              "        vertical-align: top;\n",
              "    }\n",
              "\n",
              "    .dataframe thead th {\n",
              "        text-align: right;\n",
              "    }\n",
              "</style>\n",
              "<table border=\"1\" class=\"dataframe\">\n",
              "  <thead>\n",
              "    <tr style=\"text-align: right;\">\n",
              "      <th></th>\n",
              "      <th>antecedents</th>\n",
              "      <th>consequents</th>\n",
              "      <th>antecedent support</th>\n",
              "      <th>consequent support</th>\n",
              "      <th>support</th>\n",
              "      <th>confidence</th>\n",
              "      <th>lift</th>\n",
              "      <th>representativity</th>\n",
              "      <th>leverage</th>\n",
              "      <th>conviction</th>\n",
              "      <th>zhangs_metric</th>\n",
              "      <th>jaccard</th>\n",
              "      <th>certainty</th>\n",
              "      <th>kulczynski</th>\n",
              "    </tr>\n",
              "  </thead>\n",
              "  <tbody>\n",
              "    <tr>\n",
              "      <th>902</th>\n",
              "      <td>(200 GM STD MIXED PICKLE M/O BTL (1*60))</td>\n",
              "      <td>(200 GM STD MANGO PICKLE M/O BTL (1*60))</td>\n",
              "      <td>0.035125</td>\n",
              "      <td>0.026840</td>\n",
              "      <td>0.022631</td>\n",
              "      <td>0.644284</td>\n",
              "      <td>24.004413</td>\n",
              "      <td>1.0</td>\n",
              "      <td>0.021688</td>\n",
              "      <td>2.735777</td>\n",
              "      <td>0.993228</td>\n",
              "      <td>0.575332</td>\n",
              "      <td>0.634473</td>\n",
              "      <td>0.743721</td>\n",
              "    </tr>\n",
              "    <tr>\n",
              "      <th>903</th>\n",
              "      <td>(200 GM STD MANGO PICKLE M/O BTL (1*60))</td>\n",
              "      <td>(200 GM STD MIXED PICKLE M/O BTL (1*60))</td>\n",
              "      <td>0.026840</td>\n",
              "      <td>0.035125</td>\n",
              "      <td>0.022631</td>\n",
              "      <td>0.843159</td>\n",
              "      <td>24.004413</td>\n",
              "      <td>1.0</td>\n",
              "      <td>0.021688</td>\n",
              "      <td>6.151932</td>\n",
              "      <td>0.984773</td>\n",
              "      <td>0.575332</td>\n",
              "      <td>0.837449</td>\n",
              "      <td>0.743721</td>\n",
              "    </tr>\n",
              "    <tr>\n",
              "      <th>75</th>\n",
              "      <td>(325 GM NILONS CLASSIC MIXED PICKLE PET M/O (1...</td>\n",
              "      <td>(325 GM NILONS CLASSIC MANGO PICKLE PET M/O (1...</td>\n",
              "      <td>0.038439</td>\n",
              "      <td>0.031781</td>\n",
              "      <td>0.027482</td>\n",
              "      <td>0.714951</td>\n",
              "      <td>22.495953</td>\n",
              "      <td>1.0</td>\n",
              "      <td>0.026260</td>\n",
              "      <td>3.396680</td>\n",
              "      <td>0.993746</td>\n",
              "      <td>0.643032</td>\n",
              "      <td>0.705595</td>\n",
              "      <td>0.789838</td>\n",
              "    </tr>\n",
              "    <tr>\n",
              "      <th>74</th>\n",
              "      <td>(325 GM NILONS CLASSIC MANGO PICKLE PET M/O (1...</td>\n",
              "      <td>(325 GM NILONS CLASSIC MIXED PICKLE PET M/O (1...</td>\n",
              "      <td>0.031781</td>\n",
              "      <td>0.038439</td>\n",
              "      <td>0.027482</td>\n",
              "      <td>0.864725</td>\n",
              "      <td>22.495953</td>\n",
              "      <td>1.0</td>\n",
              "      <td>0.026260</td>\n",
              "      <td>7.108205</td>\n",
              "      <td>0.986913</td>\n",
              "      <td>0.643032</td>\n",
              "      <td>0.859318</td>\n",
              "      <td>0.789838</td>\n",
              "    </tr>\n",
              "    <tr>\n",
              "      <th>847</th>\n",
              "      <td>(500 GM NILONS CLASSIC MIXED PICKLE PET M/O (1...</td>\n",
              "      <td>(500 GM NILONS CLASSIC MANGO PICKLE PET M/O (1...</td>\n",
              "      <td>0.034976</td>\n",
              "      <td>0.035812</td>\n",
              "      <td>0.025661</td>\n",
              "      <td>0.733675</td>\n",
              "      <td>20.486928</td>\n",
              "      <td>1.0</td>\n",
              "      <td>0.024408</td>\n",
              "      <td>3.620341</td>\n",
              "      <td>0.985663</td>\n",
              "      <td>0.568640</td>\n",
              "      <td>0.723783</td>\n",
              "      <td>0.725112</td>\n",
              "    </tr>\n",
              "    <tr>\n",
              "      <th>842</th>\n",
              "      <td>(500 GM NILONS CLASSIC MANGO PICKLE PET M/O (1...</td>\n",
              "      <td>(500 GM NILONS CLASSIC MIXED PICKLE PET M/O (1...</td>\n",
              "      <td>0.035812</td>\n",
              "      <td>0.034976</td>\n",
              "      <td>0.025661</td>\n",
              "      <td>0.716549</td>\n",
              "      <td>20.486928</td>\n",
              "      <td>1.0</td>\n",
              "      <td>0.024408</td>\n",
              "      <td>3.404548</td>\n",
              "      <td>0.986517</td>\n",
              "      <td>0.568640</td>\n",
              "      <td>0.706275</td>\n",
              "      <td>0.725112</td>\n",
              "    </tr>\n",
              "    <tr>\n",
              "      <th>362</th>\n",
              "      <td>(RS 10/- NILONS FUSILLI PASTA POU (1*160))</td>\n",
              "      <td>(RS 10/- NILONS MACARONI PASTA POU (1*160))</td>\n",
              "      <td>0.032020</td>\n",
              "      <td>0.037618</td>\n",
              "      <td>0.022616</td>\n",
              "      <td>0.706294</td>\n",
              "      <td>18.775361</td>\n",
              "      <td>1.0</td>\n",
              "      <td>0.021411</td>\n",
              "      <td>3.276681</td>\n",
              "      <td>0.978056</td>\n",
              "      <td>0.480952</td>\n",
              "      <td>0.694813</td>\n",
              "      <td>0.653742</td>\n",
              "    </tr>\n",
              "    <tr>\n",
              "      <th>363</th>\n",
              "      <td>(RS 10/- NILONS MACARONI PASTA POU (1*160))</td>\n",
              "      <td>(RS 10/- NILONS FUSILLI PASTA POU (1*160))</td>\n",
              "      <td>0.037618</td>\n",
              "      <td>0.032020</td>\n",
              "      <td>0.022616</td>\n",
              "      <td>0.601190</td>\n",
              "      <td>18.775361</td>\n",
              "      <td>1.0</td>\n",
              "      <td>0.021411</td>\n",
              "      <td>2.427173</td>\n",
              "      <td>0.983745</td>\n",
              "      <td>0.480952</td>\n",
              "      <td>0.587998</td>\n",
              "      <td>0.653742</td>\n",
              "    </tr>\n",
              "    <tr>\n",
              "      <th>844</th>\n",
              "      <td>(500 GM NILONS CLASSIC MANGO PICKLE PET M/O (1...</td>\n",
              "      <td>(900 GM NILONS CLASSIC MIXED PICKLE PET M/O (1...</td>\n",
              "      <td>0.032513</td>\n",
              "      <td>0.045157</td>\n",
              "      <td>0.025661</td>\n",
              "      <td>0.789256</td>\n",
              "      <td>17.478176</td>\n",
              "      <td>1.0</td>\n",
              "      <td>0.024193</td>\n",
              "      <td>4.530825</td>\n",
              "      <td>0.974468</td>\n",
              "      <td>0.493398</td>\n",
              "      <td>0.779290</td>\n",
              "      <td>0.678760</td>\n",
              "    </tr>\n",
              "    <tr>\n",
              "      <th>845</th>\n",
              "      <td>(900 GM NILONS CLASSIC MIXED PICKLE PET M/O (1...</td>\n",
              "      <td>(500 GM NILONS CLASSIC MANGO PICKLE PET M/O (1...</td>\n",
              "      <td>0.045157</td>\n",
              "      <td>0.032513</td>\n",
              "      <td>0.025661</td>\n",
              "      <td>0.568264</td>\n",
              "      <td>17.478176</td>\n",
              "      <td>1.0</td>\n",
              "      <td>0.024193</td>\n",
              "      <td>2.240926</td>\n",
              "      <td>0.987372</td>\n",
              "      <td>0.493398</td>\n",
              "      <td>0.553756</td>\n",
              "      <td>0.678760</td>\n",
              "    </tr>\n",
              "  </tbody>\n",
              "</table>\n",
              "</div>"
            ],
            "text/plain": [
              "                                           antecedents  \\\n",
              "902           (200 GM STD MIXED PICKLE M/O BTL (1*60))   \n",
              "903           (200 GM STD MANGO PICKLE M/O BTL (1*60))   \n",
              "75   (325 GM NILONS CLASSIC MIXED PICKLE PET M/O (1...   \n",
              "74   (325 GM NILONS CLASSIC MANGO PICKLE PET M/O (1...   \n",
              "847  (500 GM NILONS CLASSIC MIXED PICKLE PET M/O (1...   \n",
              "842  (500 GM NILONS CLASSIC MANGO PICKLE PET M/O (1...   \n",
              "362         (RS 10/- NILONS FUSILLI PASTA POU (1*160))   \n",
              "363        (RS 10/- NILONS MACARONI PASTA POU (1*160))   \n",
              "844  (500 GM NILONS CLASSIC MANGO PICKLE PET M/O (1...   \n",
              "845  (900 GM NILONS CLASSIC MIXED PICKLE PET M/O (1...   \n",
              "\n",
              "                                           consequents  antecedent support  \\\n",
              "902           (200 GM STD MANGO PICKLE M/O BTL (1*60))            0.035125   \n",
              "903           (200 GM STD MIXED PICKLE M/O BTL (1*60))            0.026840   \n",
              "75   (325 GM NILONS CLASSIC MANGO PICKLE PET M/O (1...            0.038439   \n",
              "74   (325 GM NILONS CLASSIC MIXED PICKLE PET M/O (1...            0.031781   \n",
              "847  (500 GM NILONS CLASSIC MANGO PICKLE PET M/O (1...            0.034976   \n",
              "842  (500 GM NILONS CLASSIC MIXED PICKLE PET M/O (1...            0.035812   \n",
              "362        (RS 10/- NILONS MACARONI PASTA POU (1*160))            0.032020   \n",
              "363         (RS 10/- NILONS FUSILLI PASTA POU (1*160))            0.037618   \n",
              "844  (900 GM NILONS CLASSIC MIXED PICKLE PET M/O (1...            0.032513   \n",
              "845  (500 GM NILONS CLASSIC MANGO PICKLE PET M/O (1...            0.045157   \n",
              "\n",
              "     consequent support   support  confidence       lift  representativity  \\\n",
              "902            0.026840  0.022631    0.644284  24.004413               1.0   \n",
              "903            0.035125  0.022631    0.843159  24.004413               1.0   \n",
              "75             0.031781  0.027482    0.714951  22.495953               1.0   \n",
              "74             0.038439  0.027482    0.864725  22.495953               1.0   \n",
              "847            0.035812  0.025661    0.733675  20.486928               1.0   \n",
              "842            0.034976  0.025661    0.716549  20.486928               1.0   \n",
              "362            0.037618  0.022616    0.706294  18.775361               1.0   \n",
              "363            0.032020  0.022616    0.601190  18.775361               1.0   \n",
              "844            0.045157  0.025661    0.789256  17.478176               1.0   \n",
              "845            0.032513  0.025661    0.568264  17.478176               1.0   \n",
              "\n",
              "     leverage  conviction  zhangs_metric   jaccard  certainty  kulczynski  \n",
              "902  0.021688    2.735777       0.993228  0.575332   0.634473    0.743721  \n",
              "903  0.021688    6.151932       0.984773  0.575332   0.837449    0.743721  \n",
              "75   0.026260    3.396680       0.993746  0.643032   0.705595    0.789838  \n",
              "74   0.026260    7.108205       0.986913  0.643032   0.859318    0.789838  \n",
              "847  0.024408    3.620341       0.985663  0.568640   0.723783    0.725112  \n",
              "842  0.024408    3.404548       0.986517  0.568640   0.706275    0.725112  \n",
              "362  0.021411    3.276681       0.978056  0.480952   0.694813    0.653742  \n",
              "363  0.021411    2.427173       0.983745  0.480952   0.587998    0.653742  \n",
              "844  0.024193    4.530825       0.974468  0.493398   0.779290    0.678760  \n",
              "845  0.024193    2.240926       0.987372  0.493398   0.553756    0.678760  "
            ]
          },
          "execution_count": 14,
          "metadata": {},
          "output_type": "execute_result"
        }
      ],
      "source": [
        "# Preview top 10 rules\n",
        "rules.head(10)"
      ]
    },
    {
      "cell_type": "code",
      "execution_count": 15,
      "id": "NmWcpwM7772o",
      "metadata": {
        "colab": {
          "base_uri": "https://localhost:8080/"
        },
        "id": "NmWcpwM7772o",
        "outputId": "8c0564e5-6217-4f62-c6f4-1ef9dca01e4f"
      },
      "outputs": [
        {
          "data": {
            "text/plain": [
              "(918, 14)"
            ]
          },
          "execution_count": 15,
          "metadata": {},
          "output_type": "execute_result"
        }
      ],
      "source": [
        "rules.shape"
      ]
    },
    {
      "cell_type": "code",
      "execution_count": 16,
      "id": "qol7L3fV8FYy",
      "metadata": {
        "id": "qol7L3fV8FYy"
      },
      "outputs": [],
      "source": [
        "def recommend_products(purchased_item, rules_df, top_n=5):\n",
        "    recommendations = rules_df[rules_df[\"antecedents\"] == frozenset([purchased_item])]\n",
        "    recommendations = recommendations.sort_values(by=\"lift\", ascending=False)\n",
        "    return [list(x)[0] for x in recommendations[\"consequents\"].head(top_n)]"
      ]
    },
    {
      "cell_type": "code",
      "execution_count": 17,
      "id": "a5a01b44",
      "metadata": {},
      "outputs": [],
      "source": [
        "basket.to_csv(\"basket.csv\")"
      ]
    },
    {
      "cell_type": "code",
      "execution_count": 18,
      "id": "5a174cca",
      "metadata": {},
      "outputs": [],
      "source": [
        "rules.to_pickle(\"rules.pkl\")"
      ]
    },
    {
      "cell_type": "code",
      "execution_count": null,
      "id": "8ea815d7",
      "metadata": {},
      "outputs": [],
      "source": []
    }
  ],
  "metadata": {
    "colab": {
      "provenance": []
    },
    "kernelspec": {
      "display_name": ".venv",
      "language": "python",
      "name": "python3"
    },
    "language_info": {
      "codemirror_mode": {
        "name": "ipython",
        "version": 3
      },
      "file_extension": ".py",
      "mimetype": "text/x-python",
      "name": "python",
      "nbconvert_exporter": "python",
      "pygments_lexer": "ipython3",
      "version": "3.13.2"
    }
  },
  "nbformat": 4,
  "nbformat_minor": 5
}
